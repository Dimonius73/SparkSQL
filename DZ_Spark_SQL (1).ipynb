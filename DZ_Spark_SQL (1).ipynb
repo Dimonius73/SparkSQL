{
  "nbformat": 4,
  "nbformat_minor": 0,
  "metadata": {
    "colab": {
      "provenance": []
    },
    "kernelspec": {
      "name": "python3",
      "display_name": "Python 3"
    },
    "language_info": {
      "name": "python"
    }
  },
  "cells": [
    {
      "cell_type": "markdown",
      "source": [
        "**Цель: изучить датасет по заболеваемости ковид-19 и получить навык работы с DataFrame API**\n",
        "\n",
        "Задание:\n",
        "\n",
        "Выберите 15 стран с наибольшим процентом переболевших на 31 марта (в выходящем датасете необходимы колонки: iso_code, страна, процент переболевших)\n",
        "\n",
        "Top 10 стран с максимальным зафиксированным кол-вом новых случаев за последнюю неделю марта 2021 в отсортированном порядке по убыванию\n",
        "(в выходящем датасете необходимы колонки: число, страна, кол-во новых случаев)\n",
        "\n",
        "Посчитайте изменение случаев относительно предыдущего дня в России за последнюю неделю марта 2021. (например: в россии вчера было 9150 , сегодня 8763, итог: -387) (в выходящем датасете необходимы колонки: число, кол-во новых случаев вчера, кол-во новых случаев сегодня, дельта)\n",
        "\n",
        "Формат выполнения работы: загрузите скрипт и результат выборки на гитхаб и пришлите ссылку на выполненную работу для проверки экспертом"
      ],
      "metadata": {
        "id": "hZQ48hpPSVkF"
      }
    },
    {
      "cell_type": "code",
      "source": [
        "!pip install pyspark"
      ],
      "metadata": {
        "colab": {
          "base_uri": "https://localhost:8080/"
        },
        "id": "0hPuURvGSv9b",
        "outputId": "e3781182-37ff-400c-a913-4fab0cda73f3"
      },
      "execution_count": 1,
      "outputs": [
        {
          "output_type": "stream",
          "name": "stdout",
          "text": [
            "Collecting pyspark\n",
            "  Downloading pyspark-3.5.2.tar.gz (317.3 MB)\n",
            "\u001b[2K     \u001b[90m━━━━━━━━━━━━━━━━━━━━━━━━━━━━━━━━━━━━━━━━\u001b[0m \u001b[32m317.3/317.3 MB\u001b[0m \u001b[31m4.0 MB/s\u001b[0m eta \u001b[36m0:00:00\u001b[0m\n",
            "\u001b[?25h  Preparing metadata (setup.py) ... \u001b[?25l\u001b[?25hdone\n",
            "Requirement already satisfied: py4j==0.10.9.7 in /usr/local/lib/python3.10/dist-packages (from pyspark) (0.10.9.7)\n",
            "Building wheels for collected packages: pyspark\n",
            "  Building wheel for pyspark (setup.py) ... \u001b[?25l\u001b[?25hdone\n",
            "  Created wheel for pyspark: filename=pyspark-3.5.2-py2.py3-none-any.whl size=317812365 sha256=7b60aecf054e26cee26d718efd2631974c0352d97d3477cbd05c4ae34bf6328d\n",
            "  Stored in directory: /root/.cache/pip/wheels/34/34/bd/03944534c44b677cd5859f248090daa9fb27b3c8f8e5f49574\n",
            "Successfully built pyspark\n",
            "Installing collected packages: pyspark\n",
            "Successfully installed pyspark-3.5.2\n"
          ]
        }
      ]
    },
    {
      "cell_type": "code",
      "source": [
        "# Данные за 2020 год\n",
        "\n",
        "from pyspark.sql import SparkSession\n",
        "from pyspark.sql.functions import col, round\n",
        "\n",
        "# Создаем сессию Spark\n",
        "spark = SparkSession.builder \\\n",
        "    .appName(\"COVID Data Analysis\") \\\n",
        "    .getOrCreate()\n",
        "\n",
        "# Чтение данных из CSV файла\n",
        "df = (spark.read.option('header', True)\n",
        "                .option('sep', ',')\n",
        "                .option('inferSchema', True)\n",
        "                .csv('covid-data.csv'))\n",
        "\n",
        "# Выполнение запроса на фильтрацию и выборку данных\n",
        "(df.where((col('date') == '2020-03-31')\n",
        "          & (~col('iso_code').like('%OWID_%')))\n",
        "   .select('iso_code',\n",
        "           col('location').alias('страна'),\n",
        "           (round((col('total_cases') - col('total_deaths')) / col('population') * 100, 3)).alias('процент переболевших'))\n",
        "   .orderBy(col('процент переболевших').desc())\n",
        "   .limit(15)\n",
        "   .show())\n",
        "\n",
        "# Останавливаем сессию Spark после завершения работы\n",
        "spark.stop()\n"
      ],
      "metadata": {
        "colab": {
          "base_uri": "https://localhost:8080/"
        },
        "id": "-3ufD-hYTzcu",
        "outputId": "0ccd4370-9f1c-412d-8b23-8625b09aefb1"
      },
      "execution_count": 2,
      "outputs": [
        {
          "output_type": "stream",
          "name": "stdout",
          "text": [
            "+--------+-----------+--------------------+\n",
            "|iso_code|     страна|процент переболевших|\n",
            "+--------+-----------+--------------------+\n",
            "|     SMR| San Marino|               0.619|\n",
            "|     AND|    Andorra|               0.471|\n",
            "|     LUX| Luxembourg|               0.344|\n",
            "|     ISL|    Iceland|               0.332|\n",
            "|     ESP|      Spain|               0.187|\n",
            "|     CHE|Switzerland|               0.187|\n",
            "|     ITA|      Italy|               0.154|\n",
            "|     MCO|     Monaco|                0.13|\n",
            "|     AUT|    Austria|               0.112|\n",
            "|     BEL|    Belgium|               0.104|\n",
            "|     NOR|     Norway|               0.085|\n",
            "|     DEU|    Germany|               0.085|\n",
            "|     FRA|     France|               0.072|\n",
            "|     PRT|   Portugal|               0.071|\n",
            "|     NLD|Netherlands|               0.068|\n",
            "+--------+-----------+--------------------+\n",
            "\n"
          ]
        }
      ]
    },
    {
      "cell_type": "code",
      "source": [
        "# Данные за 2021 год\n",
        "\n",
        "from pyspark.sql import SparkSession\n",
        "from pyspark.sql.functions import col, round\n",
        "\n",
        "# Создаем сессию Spark\n",
        "spark = SparkSession.builder \\\n",
        "    .appName(\"COVID Data Analysis\") \\\n",
        "    .getOrCreate()\n",
        "\n",
        "# Чтение данных из CSV файла\n",
        "df = (spark.read.option('header', True)\n",
        "                .option('sep', ',')\n",
        "                .option('inferSchema', True)\n",
        "                .csv('covid-data.csv'))\n",
        "\n",
        "# Выполнение запроса на фильтрацию и выборку данных\n",
        "(df.where((col('date') == '2021-03-31')\n",
        "          & (~col('iso_code').like('%OWID_%')))\n",
        "   .select('iso_code',\n",
        "           col('location').alias('страна'),\n",
        "           (round((col('total_cases') - col('total_deaths')) / col('population') * 100, 3)).alias('процент переболевших'))\n",
        "   .orderBy(col('процент переболевших').desc())\n",
        "   .limit(15)\n",
        "   .show())\n",
        "\n",
        "# Останавливаем сессию Spark после завершения работы\n",
        "spark.stop()"
      ],
      "metadata": {
        "colab": {
          "base_uri": "https://localhost:8080/"
        },
        "id": "gQGVVP9rU1jz",
        "outputId": "783cbd06-1969-4ff3-fee5-e6d5ca32d6f9"
      },
      "execution_count": 3,
      "outputs": [
        {
          "output_type": "stream",
          "name": "stdout",
          "text": [
            "+--------+-------------+--------------------+\n",
            "|iso_code|       страна|процент переболевших|\n",
            "+--------+-------------+--------------------+\n",
            "|     AND|      Andorra|              15.395|\n",
            "|     MNE|   Montenegro|              14.321|\n",
            "|     CZE|      Czechia|              14.062|\n",
            "|     SMR|   San Marino|               13.69|\n",
            "|     SVN|     Slovenia|              10.176|\n",
            "|     LUX|   Luxembourg|               9.728|\n",
            "|     ISR|       Israel|               9.553|\n",
            "|     USA|United States|               9.036|\n",
            "|     SRB|       Serbia|               8.748|\n",
            "|     BHR|      Bahrain|               8.458|\n",
            "|     PAN|       Panama|               8.087|\n",
            "|     EST|      Estonia|               7.955|\n",
            "|     PRT|     Portugal|               7.893|\n",
            "|     SWE|       Sweden|               7.836|\n",
            "|     LTU|    Lithuania|               7.808|\n",
            "+--------+-------------+--------------------+\n",
            "\n"
          ]
        }
      ]
    },
    {
      "cell_type": "markdown",
      "source": [
        "Top 10 стран с максимальным зафиксированным кол-вом новых случаев за последнюю неделю марта 2021 в отсортированном порядке по убыванию (в выходящем датасете необходимы колонки: число, страна, кол-во новых случаев)"
      ],
      "metadata": {
        "id": "aj1UcKQtVPIO"
      }
    },
    {
      "cell_type": "code",
      "source": [
        "from pyspark.sql import SparkSession\n",
        "from pyspark.sql.functions import col, first, date_format\n",
        "\n",
        "# Создаем или возобновляем сессию Spark\n",
        "spark = SparkSession.builder \\\n",
        "    .appName(\"COVID Data Analysis\") \\\n",
        "    .getOrCreate()\n",
        "\n",
        "# Чтение данных из CSV файла\n",
        "df = (spark.read.option('header', True)\n",
        "                .option('sep', ',')\n",
        "                .option('inferSchema', True)\n",
        "                .csv('covid-data.csv'))\n",
        "\n",
        "# Выполнение запроса на фильтрацию и выборку данных\n",
        "(df.where((col('date').between('2021-03-24', '2021-03-31'))\n",
        "          & (~col('iso_code').like('%OWID_%')))\n",
        "   .orderBy(col('location'), col('new_cases').desc())\n",
        "   .groupBy(col('location'))\n",
        "   .agg(first('new_cases').alias('new_cases'), first('date').alias('date'))\n",
        "   .orderBy(col('new_cases').desc())\n",
        "   .select(date_format('date', 'yyyy-MM-dd').alias('число'),\n",
        "           col('location').alias('страна'),\n",
        "           col('new_cases').alias('кол-во новых случаев'))\n",
        "   .limit(10)\n",
        "   .show())\n",
        "\n",
        "# Останавливаем сессию Spark после завершения работы (если необходимо)\n",
        "# spark.stop()"
      ],
      "metadata": {
        "colab": {
          "base_uri": "https://localhost:8080/"
        },
        "id": "7Rt-SPDNVGux",
        "outputId": "e3353841-9013-4e8f-b772-62feef1c4e8b"
      },
      "execution_count": 4,
      "outputs": [
        {
          "output_type": "stream",
          "name": "stdout",
          "text": [
            "+----------+-------------+--------------------+\n",
            "|     число|       страна|кол-во новых случаев|\n",
            "+----------+-------------+--------------------+\n",
            "|2021-03-25|       Brazil|            100158.0|\n",
            "|2021-03-24|United States|             86960.0|\n",
            "|2021-03-31|        India|             72330.0|\n",
            "|2021-03-24|       France|             65392.0|\n",
            "|2021-03-31|       Turkey|             39302.0|\n",
            "|2021-03-26|       Poland|             35145.0|\n",
            "|2021-03-31|      Germany|             25014.0|\n",
            "|2021-03-26|        Italy|             24076.0|\n",
            "|2021-03-25|         Peru|             19206.0|\n",
            "|2021-03-26|      Ukraine|             18226.0|\n",
            "+----------+-------------+--------------------+\n",
            "\n"
          ]
        }
      ]
    },
    {
      "cell_type": "markdown",
      "source": [
        "Посчитайте изменение случаев относительно предыдущего дня в России за последнюю неделю марта 2021. (например: в россии вчера было 9150 , сегодня 8763, итог: -387) (в выходящем датасете необходимы колонки: число, кол-во новых случаев вчера, кол-во новых случаев сегодня, дельта)"
      ],
      "metadata": {
        "id": "g5Gtx783V5Cz"
      }
    },
    {
      "cell_type": "code",
      "source": [
        "from pyspark.sql.window import Window\n",
        "from pyspark.sql import SparkSession\n",
        "from pyspark.sql.functions import col, lag, date_format\n",
        "\n",
        "(df.where((col('date').between('2021-03-28', '2021-03-31'))\n",
        "          & (col('iso_code') == 'RUS'))\n",
        "   .withColumn(\"кол-во новых случаев вчера\",lag('new_cases').over(Window.orderBy(\"date\")))\n",
        "   .select(date_format('date', 'yyyy-MM-dd').alias('число'),\n",
        "           col('new_cases').alias('кол-во новых случаев сегодня'),\n",
        "           'кол-во новых случаев вчера',\n",
        "           (col('new_cases') - col('кол-во новых случаев вчера')).alias('дельта'))\n",
        "   .where(col('date') != '2021-03-28')\n",
        "   .show())"
      ],
      "metadata": {
        "colab": {
          "base_uri": "https://localhost:8080/"
        },
        "id": "GeIwa75HWEIK",
        "outputId": "01466eb8-0c56-4e84-917c-3a2a0d592715"
      },
      "execution_count": 8,
      "outputs": [
        {
          "output_type": "stream",
          "name": "stdout",
          "text": [
            "+----------+----------------------------+--------------------------+------+\n",
            "|     число|кол-во новых случаев сегодня|кол-во новых случаев вчера|дельта|\n",
            "+----------+----------------------------+--------------------------+------+\n",
            "|2021-03-29|                      8589.0|                    8979.0|-390.0|\n",
            "|2021-03-30|                      8162.0|                    8589.0|-427.0|\n",
            "|2021-03-31|                      8156.0|                    8162.0|  -6.0|\n",
            "+----------+----------------------------+--------------------------+------+\n",
            "\n"
          ]
        }
      ]
    }
  ]
}